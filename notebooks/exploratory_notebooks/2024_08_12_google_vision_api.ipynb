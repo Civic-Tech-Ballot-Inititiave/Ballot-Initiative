{
 "cells": [
  {
   "cell_type": "markdown",
   "metadata": {},
   "source": [
    "# PaliGemma Exploration \n",
    "\n",
    "- **Objective:** Explore paligemma for image comprehrension. Comes from this Slack post (https://civictechdc.slack.com/archives/C04U3D9AWER/p1722462961989899?thread_ts=1722442679.377859&cid=C04U3D9AWER)\n",
    "- **Date:** August 12, 2024"
   ]
  },
  {
   "cell_type": "code",
   "execution_count": null,
   "metadata": {},
   "outputs": [],
   "source": [
    "from transformers import AutoProcessor, PaliGemmaForConditionalGeneration\n",
    "\n",
    "model_id = \"google/paligemma-3b-mix-224\"\n",
    "model = PaliGemmaForConditionalGeneration.from_pretrained(model_id)\n",
    "processor = AutoProcessor.from_pretrained(model_id)\n",
    "\n",
    "prompt = \"What is on the flower?\"\n",
    "image_file = \"https://huggingface.co/datasets/huggingface/documentation-images/resolve/main/bee.jpg?download=true\"\n",
    "raw_image = Image.open(requests.get(image_file, stream=True).raw)\n",
    "inputs = processor(prompt, raw_image, return_tensors=\"pt\")\n",
    "output = model.generate(**inputs, max_new_tokens=20)\n",
    "\n",
    "print(processor.decode(output[0], skip_special_tokens=True)[len(prompt):])\n",
    "# bee\n"
   ]
  }
 ],
 "metadata": {
  "kernelspec": {
   "display_name": "ballot-initiative",
   "language": "python",
   "name": "python3"
  },
  "language_info": {
   "name": "python",
   "version": "3.12.2"
  }
 },
 "nbformat": 4,
 "nbformat_minor": 2
}
