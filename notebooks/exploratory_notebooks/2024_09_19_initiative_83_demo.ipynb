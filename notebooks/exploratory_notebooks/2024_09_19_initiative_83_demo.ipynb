{
 "cells": [
  {
   "cell_type": "markdown",
   "metadata": {},
   "source": [
    "### Notebook Demo for Processing of Initiative 83 Tests\n",
    "\n",
    "**Sept 19, 2024**\n",
    "\n",
    "Main Questions\n",
    "- How much does it cost to validate the petitions?\n",
    "- How much time does it take to perform this validation? \n",
    "\n",
    "Source Links\n",
    "- **Petitions:** \n",
    "- **Voter Record Database:** \n",
    "\n",
    "To Do\n",
    "- Use structured outputs for the response **[Done]**\n",
    "- Create separate columns for address and name validation **[Done]**\n",
    "- Create a harmonic mean score for address and name validation **[Done]**\n",
    "- (Extra) Determine ward from address (perhaps through an API): https://developers.data.dc.gov/marviewer/search/address/700%25207TH%2520STREET%2520SW \n",
    "- (Extra) Embed ward map in software\n",
    "- Project management platform for website\n",
    "\n",
    "(We need to provide cost and time estimates as well)"
   ]
  },
  {
   "cell_type": "code",
   "execution_count": 2,
   "metadata": {},
   "outputs": [],
   "source": [
    "from ocr_matching_functions_2024_09 import *"
   ]
  },
  {
   "cell_type": "markdown",
   "metadata": {},
   "source": [
    "#### Performing Optical Character Recognition on Ballot Petitions"
   ]
  },
  {
   "cell_type": "code",
   "execution_count": 3,
   "metadata": {},
   "outputs": [
    {
     "name": "stdout",
     "output_type": "stream",
     "text": [
      "Converting PDF file to Image Format\n",
      "\n",
      "Cropping Images and Converting to Bytes Objects\n"
     ]
    },
    {
     "data": {
      "application/vnd.jupyter.widget-view+json": {
       "model_id": "cd25faa2ff914379bd68867b4902e856",
       "version_major": 2,
       "version_minor": 0
      },
      "text/plain": [
       "  0%|          | 0/100 [00:00<?, ?it/s]"
      ]
     },
     "metadata": {},
     "output_type": "display_data"
    },
    {
     "name": "stdout",
     "output_type": "stream",
     "text": [
      "\n",
      "Files Successfully Converted to Bytes\n",
      "\n",
      "Performing OCR to read Names and Addresses\n"
     ]
    },
    {
     "data": {
      "application/vnd.jupyter.widget-view+json": {
       "model_id": "25b5007efa6242b981654a1a6a3d1171",
       "version_major": 2,
       "version_minor": 0
      },
      "text/plain": [
       "  0%|          | 0/10 [00:00<?, ?it/s]"
      ]
     },
     "metadata": {},
     "output_type": "display_data"
    },
    {
     "name": "stdout",
     "output_type": "stream",
     "text": [
      "Processing Page 1 of I-83 - p 0001-0100.pdf\n",
      "Processing Page 2 of I-83 - p 0001-0100.pdf\n",
      "Processing Page 3 of I-83 - p 0001-0100.pdf\n",
      "Processing Page 4 of I-83 - p 0001-0100.pdf\n",
      "Processing Page 5 of I-83 - p 0001-0100.pdf\n",
      "Processing Page 6 of I-83 - p 0001-0100.pdf\n",
      "Processing Page 7 of I-83 - p 0001-0100.pdf\n",
      "Processing Page 8 of I-83 - p 0001-0100.pdf\n",
      "Processing Page 9 of I-83 - p 0001-0100.pdf\n",
      "Processing Page 10 of I-83 - p 0001-0100.pdf\n",
      "\n",
      "Elapsed Time: 83.996 secs\n"
     ]
    }
   ],
   "source": [
    "# timing the result\n",
    "start_time = time.time()\n",
    "\n",
    "# creating ocr data frame from voter pdfs\n",
    "ocr_df = create_ocr_df(filedir=f\"Initiative Measure No. 83 Petition Sheets\", \n",
    "              filename=\"I-83 - p 0001-0100.pdf\",  max_page_num = 10)\n",
    "\n",
    "# recording elapsed time; uncomment in the notebook run\n",
    "print(f'\\nElapsed Time: {time.time()-start_time:.3f} secs')"
   ]
  },
  {
   "cell_type": "markdown",
   "metadata": {},
   "source": [
    "#### Voter Records"
   ]
  },
  {
   "cell_type": "code",
   "execution_count": 4,
   "metadata": {},
   "outputs": [],
   "source": [
    "# getting voter records\n",
    "voter_records = pd.read_csv(\"06-04-2024 City Wide.csv\")"
   ]
  },
  {
   "cell_type": "code",
   "execution_count": 5,
   "metadata": {},
   "outputs": [],
   "source": [
    "# displaying first few voter records\n",
    "# voter_records.head(10)"
   ]
  },
  {
   "cell_type": "code",
   "execution_count": 6,
   "metadata": {},
   "outputs": [],
   "source": [
    "# getting only necessary information\n",
    "select_voter_records = create_select_voter_records(voter_records)\n",
    "# select_voter_records"
   ]
  },
  {
   "cell_type": "code",
   "execution_count": 7,
   "metadata": {},
   "outputs": [
    {
     "data": {
      "application/vnd.jupyter.widget-view+json": {
       "model_id": "b926dd7f2ecc42a9b4606e814f135487",
       "version_major": 2,
       "version_minor": 0
      },
      "text/plain": [
       "0it [00:00, ?it/s]"
      ]
     },
     "metadata": {},
     "output_type": "display_data"
    },
    {
     "name": "stdout",
     "output_type": "stream",
     "text": [
      "\n",
      "Elapsed Time: 4.665 secs\n"
     ]
    }
   ],
   "source": [
    "# timing the result\n",
    "start_time = time.time()\n",
    "\n",
    "# creating new matched DF\n",
    "ocr_matched_df = create_ocr_matched_df(ocr_df, select_voter_records, threshold = 85)\n",
    "\n",
    "# recording elapsed time; uncomment in the notebook run\n",
    "print(f'\\nElapsed Time: {time.time()-start_time:.3f} secs')"
   ]
  },
  {
   "cell_type": "code",
   "execution_count": 8,
   "metadata": {},
   "outputs": [],
   "source": [
    "# showing result\n",
    "# ocr_matched_df "
   ]
  },
  {
   "cell_type": "code",
   "execution_count": 9,
   "metadata": {},
   "outputs": [
    {
     "name": "stdout",
     "output_type": "stream",
     "text": [
      "Number of Valid Signatures: 27\n"
     ]
    }
   ],
   "source": [
    "validated_no = sum(list(ocr_matched_df[\"Valid\"]))\n",
    "print(f\"Number of Valid Signatures: {validated_no}\")"
   ]
  },
  {
   "cell_type": "code",
   "execution_count": null,
   "metadata": {},
   "outputs": [],
   "source": []
  }
 ],
 "metadata": {
  "kernelspec": {
   "display_name": "ballot-initiative",
   "language": "python",
   "name": "python3"
  },
  "language_info": {
   "codemirror_mode": {
    "name": "ipython",
    "version": 3
   },
   "file_extension": ".py",
   "mimetype": "text/x-python",
   "name": "python",
   "nbconvert_exporter": "python",
   "pygments_lexer": "ipython3",
   "version": "3.12.3"
  }
 },
 "nbformat": 4,
 "nbformat_minor": 2
}
