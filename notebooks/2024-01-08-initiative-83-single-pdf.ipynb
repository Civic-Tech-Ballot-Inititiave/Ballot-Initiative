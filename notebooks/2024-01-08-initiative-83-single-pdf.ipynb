{
 "cells": [
  {
   "cell_type": "markdown",
   "metadata": {},
   "source": [
    "### Notebook Demo for Processing of Initiative 83 Tests\n",
    "\n",
    "**Sept 19, 2024**"
   ]
  },
  {
   "cell_type": "code",
   "execution_count": 1,
   "metadata": {},
   "outputs": [],
   "source": [
    "from ocr_matching_functions_2024_09 import *"
   ]
  },
  {
   "cell_type": "markdown",
   "metadata": {},
   "source": [
    "#### Performing Optical Character Recognition on Ballot Petitions"
   ]
  },
  {
   "cell_type": "code",
   "execution_count": null,
   "metadata": {},
   "outputs": [],
   "source": [
    "# timing the result\n",
    "start_time = time.time()\n",
    "\n",
    "# creating ocr data frame from voter pdfs\n",
    "ocr_df = create_ocr_df(filedir=f\"Initiative Measure No. 83 Petition Sheets\", \n",
    "              filename=\"I-83 - p 0001-0100.pdf\")\n",
    "\n",
    "# recording elapsed time; uncomment in the notebook run\n",
    "print(f'\\nElapsed Time: {time.time()-start_time:.3f} secs')"
   ]
  },
  {
   "cell_type": "markdown",
   "metadata": {},
   "source": [
    "#### Voter Records"
   ]
  },
  {
   "cell_type": "code",
   "execution_count": 3,
   "metadata": {},
   "outputs": [],
   "source": [
    "# getting voter records\n",
    "voter_records = pd.read_csv(\"06-04-2024 City Wide.csv\")"
   ]
  },
  {
   "cell_type": "code",
   "execution_count": null,
   "metadata": {},
   "outputs": [],
   "source": [
    "# displaying first few voter records\n",
    "voter_records.head(10)"
   ]
  },
  {
   "cell_type": "code",
   "execution_count": null,
   "metadata": {},
   "outputs": [],
   "source": [
    "# getting only necessary information\n",
    "select_voter_records = create_select_voter_records(voter_records)\n",
    "select_voter_records"
   ]
  },
  {
   "cell_type": "code",
   "execution_count": null,
   "metadata": {},
   "outputs": [],
   "source": [
    "# timing the result\n",
    "start_time = time.time()\n",
    "\n",
    "# creating new matched DF\n",
    "ocr_matched_df = create_ocr_matched_df(ocr_df, select_voter_records, threshold = 85)\n",
    "\n",
    "# recording elapsed time; uncomment in the notebook run\n",
    "print(f'\\nElapsed Time: {time.time()-start_time:.3f} secs')"
   ]
  },
  {
   "cell_type": "code",
   "execution_count": null,
   "metadata": {},
   "outputs": [],
   "source": [
    "# showing result\n",
    "ocr_matched_df "
   ]
  },
  {
   "cell_type": "code",
   "execution_count": null,
   "metadata": {},
   "outputs": [],
   "source": [
    "validated_no = sum(list(ocr_matched_df[\"Valid\"]))\n",
    "print(f\"Number of Valid Signatures: {validated_no}\")"
   ]
  },
  {
   "cell_type": "markdown",
   "metadata": {},
   "source": [
    "#### From Helicone Results (https://us.helicone.ai/requests)\n",
    "- **Processing Time:** 15 minutes for 100 pages\n",
    "- **Processsing Cost:** 80 cents for 100 pages ($0.008 per page)"
   ]
  },
  {
   "cell_type": "markdown",
   "metadata": {},
   "source": []
  }
 ],
 "metadata": {
  "kernelspec": {
   "display_name": "ballot-initiative",
   "language": "python",
   "name": "python3"
  },
  "language_info": {
   "codemirror_mode": {
    "name": "ipython",
    "version": 3
   },
   "file_extension": ".py",
   "mimetype": "text/x-python",
   "name": "python",
   "nbconvert_exporter": "python",
   "pygments_lexer": "ipython3",
   "version": "3.12.3"
  }
 },
 "nbformat": 4,
 "nbformat_minor": 2
}
