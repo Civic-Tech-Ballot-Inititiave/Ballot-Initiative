{
 "cells": [
  {
   "cell_type": "markdown",
   "id": "7f6fb6f2-c3ad-48e3-be29-0c8da5b1ad38",
   "metadata": {},
   "source": [
    "# OCR Matching Algorithm Results & Benchmarks\n",
    "\n",
    "This notebook is to document the performance of the matching algorithm which checks the values returned by OCR against the voter registry dataframe. It will mainly serve to illustrate the results along two main axes, the search function and the scorer used by the fuzzy matching function."
   ]
  }
 ],
 "metadata": {
  "kernelspec": {
   "display_name": "Python 3 (ipykernel)",
   "language": "python",
   "name": "python3"
  },
  "language_info": {
   "codemirror_mode": {
    "name": "ipython",
    "version": 3
   },
   "file_extension": ".py",
   "mimetype": "text/x-python",
   "name": "python",
   "nbconvert_exporter": "python",
   "pygments_lexer": "ipython3",
   "version": "3.12.3"
  }
 },
 "nbformat": 4,
 "nbformat_minor": 5
}
