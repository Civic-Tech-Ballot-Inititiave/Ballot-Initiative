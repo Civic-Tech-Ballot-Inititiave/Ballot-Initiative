{
 "cells": [
  {
   "cell_type": "markdown",
   "id": "7f6fb6f2-c3ad-48e3-be29-0c8da5b1ad38",
   "metadata": {},
   "source": [
    "# OCR Matching Algorithm Results & Benchmarks\n",
    "\n",
    "This notebook is to document the performance of the matching algorithm which checks the values returned by OCR against the voter registry dataframe. It will mainly serve to illustrate the results along two main axes, the search function and the scorer used by the fuzzy matching function."
   ]
  },
  {
   "cell_type": "code",
   "execution_count": null,
   "id": "2202cc30-6d3c-4822-8420-1c9e905df8d0",
   "metadata": {},
   "outputs": [],
   "source": [
    "# libraries used for matching\n",
    "import pandas as pd\n",
    "from rapidfuzz import fuzz, process, utils\n",
    "import time\n",
    "from loguru  import logger\n",
    "import sys\n",
    "import json\n",
    "import glob\n",
    "\n",
    "# creating dataframe from the registry\n",
    "voter_records_2023_df = pd.read_csv('../data/raw_feb_23_city_wide.csv', dtype=str)\n",
    "\n",
    "# adding Jupyter Notebook system standout as a sink for logger\n",
    "logger.add(sys.standout, level=\"INFO\")"
   ]
  },
  {
   "cell_type": "markdown",
   "id": "0ad5da56-214f-4d04-9d23-5b4fecc48eb7",
   "metadata": {},
   "source": [
    "## Vanilla"
   ]
  },
  {
   "cell_type": "code",
   "execution_count": null,
   "id": "ba30df09-6b13-4d51-8d91-1c1b049bb68d",
   "metadata": {},
   "outputs": [],
   "source": []
  },
  {
   "cell_type": "markdown",
   "id": "756e9929-efda-4fb3-b182-1518daeff8b7",
   "metadata": {},
   "source": [
    "### By Full Name"
   ]
  },
  {
   "cell_type": "markdown",
   "id": "7bbd072f-43da-4530-a59b-741ba052f4af",
   "metadata": {},
   "source": [
    "### By Ward"
   ]
  },
  {
   "cell_type": "markdown",
   "id": "8f76e567-5a33-4758-b0fe-df5f4ff30e67",
   "metadata": {},
   "source": [
    "## Vectorized Columns"
   ]
  },
  {
   "cell_type": "code",
   "execution_count": null,
   "id": "86a9ea17-81cf-4e15-8928-a4a27cbd6f01",
   "metadata": {},
   "outputs": [],
   "source": [
    "start_time = time.time()\n",
    "voter_records_2023_df['Full Name'] = voter_records_2023_df[\"First_Name\"] + ' ' + voter_records_2023_df['Last_Name']\n",
    "voter_records_2023_df['Full Address'] =  voter_records_2023_df[\"Street_Number\"] + \" \" + voter_records_2023_df[\"Street_Name\"] + \" \" + voter_records_2023_df[\"Street_Type\"] + \" \" + voter_records_2023_df[\"Street_Dir_Suffix\"]\n",
    "voter_records_2023_df['OCR'] = voter_records_2023_df[\"Full Name\"] + ' ' + voter_records_2023_df[\"Full Address\"]\n",
    "end_time = time.time()\n",
    "\n",
    "logger.info(f\"Initialized columns in: {start_time - end_time}\""
   ]
  },
  {
   "cell_type": "markdown",
   "id": "a4f3ffb3-e743-4c68-ad77-02f31150895f",
   "metadata": {},
   "source": [
    "### By Name + Address"
   ]
  },
  {
   "cell_type": "markdown",
   "id": "c1e9355e-ff6b-442a-80ae-4b8332cb25ce",
   "metadata": {},
   "source": [
    "### By Ward"
   ]
  },
  {
   "cell_type": "markdown",
   "id": "a6acbc80-fa8d-4bb9-bbb4-0853dad3884f",
   "metadata": {},
   "source": [
    "### By Entire Registry"
   ]
  },
  {
   "cell_type": "markdown",
   "id": "307d8565-b0c7-4155-be51-a6c2dee2f874",
   "metadata": {},
   "source": [
    "## Hierarchical Search"
   ]
  },
  {
   "cell_type": "code",
   "execution_count": null,
   "id": "302aba9e-fda0-4996-a816-aae3f04d1be9",
   "metadata": {},
   "outputs": [],
   "source": [
    "def tiered_search(name, address):\n",
    "    name_address_combo = f\"{name} {address}\"\n",
    "    # Searches for a match within the Ward returned by OCR\n",
    "    high_match_ids = score_fuzzy_match_slim(name_address_combo, voter_records_2023_df[voter_records_2023_df['WARD'] == f\"{dict_['Ward']}.0\"][\"OCR\"])\n",
    "    name_, score_, id_ = high_match_ids[0]\n",
    "    # If no Valid matches are found, searches for a match against the entire registry\n",
    "    if score_ < 85.0:\n",
    "        high_match_ids = score_fuzzy_match_slim(name_address_combo, voter_records_2023_df[\"OCR\"])\n",
    "        name_, score_, id_ = high_match_ids[0]\n",
    "    if score_ >= 85.0:\n",
    "        return high_match_ids[0]\n",
    "    # IF no Valid matches have been found, searches for a match using only the Full Name\n",
    "    else:\n",
    "        matched_full_names = score_fuzzy_match_slim(name, voter_records_2023_df[\"Full Name\"], scorer_=fuzz.ratio)\n",
    "        full_name, full_name_score, full_name_id = matched_full_names[0]\n",
    "    # Compare scores of full name + address match to score of Full Name match and take the record with the highest score in the format Tuple(matched_record, score, index)\n",
    "    if score_ > full_name_score:\n",
    "        return high_match_ids[0]\n",
    "    else:\n",
    "        address = voter_records_2023_df.loc[full_name_id, 'Full Address']\n",
    "        full_name = f\"{full_name} {address}\"\n",
    "        return (full_name, full_name_score, full_name_id)"
   ]
  },
  {
   "cell_type": "code",
   "execution_count": null,
   "id": "3253d70b-680c-4626-8027-ae7a39aafde5",
   "metadata": {},
   "outputs": [],
   "source": [
    "matched_list = list()\n",
    "start_time = time.time()\n",
    "i = 0\n",
    "\n",
    "with open('../data/processed_ocr_data.json', 'r') as file:\n",
    "    resulting_data = json.load(file)\n",
    "\n",
    "for dict_ in resulting_data:\n",
    "    temp_dict = dict()\n",
    "    name_, score_, id_ = tiered_search(dict_['Name'], dict_['Address'])\n",
    "    temp_dict['OCR RECORD'] = f\"{dict_['Name']} {dict_['Address']}\"\n",
    "    temp_dict['MATCHED RECORD'] = name_\n",
    "    temp_dict['SCORE'] = score_\n",
    "    temp_dict['VALID'] = False\n",
    "    if score_ > 85.0:\n",
    "        temp_dict['VALID'] = True\n",
    "    matched_list.append(temp_dict)\n",
    "    matching_bar.progress((i+1)/len(resulting_data), text=f\"Matching OCR Names - page {i+1} of {len(resulting_data)}\")\n",
    "    i+=1\n",
    "\n",
    "## Editable Table\n",
    "match_df = pd.DataFrame(matched_list, columns=[\"OCR RECORD\", \"MATCHED RECORD\", \"SCORE\", \"VALID\"])\n",
    "match_df\n",
    "\n",
    "end_time = time.time()\n",
    "total_records = len(match_df)\n",
    "valid_matches = match_df[\"VALID\"].sum()\n",
    "logger.info(f\"OCR and Match Time {end_time-start_time:.3f} secs | Matched Records: {valid_matches} of {total_records} - {valid_matches/total_records * 100:2f}%\")\n"
   ]
  }
 ],
 "metadata": {
  "kernelspec": {
   "display_name": "Python 3 (ipykernel)",
   "language": "python",
   "name": "python3"
  },
  "language_info": {
   "codemirror_mode": {
    "name": "ipython",
    "version": 3
   },
   "file_extension": ".py",
   "mimetype": "text/x-python",
   "name": "python",
   "nbconvert_exporter": "python",
   "pygments_lexer": "ipython3",
   "version": "3.12.3"
  }
 },
 "nbformat": 4,
 "nbformat_minor": 5
}
