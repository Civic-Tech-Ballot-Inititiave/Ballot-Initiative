{
 "cells": [
  {
   "cell_type": "markdown",
   "id": "7f6fb6f2-c3ad-48e3-be29-0c8da5b1ad38",
   "metadata": {},
   "source": [
    "# OCR Matching Algorithm Results & Benchmarks\n",
    "\n",
    "This notebook is to document the performance of the matching algorithm which checks the values returned by OCR against the voter registry dataframe. It will mainly serve to illustrate the results along two main axes, the search function and the scorer used by the fuzzy matching function."
   ]
  },
  {
   "cell_type": "code",
   "execution_count": 1,
   "id": "2202cc30-6d3c-4822-8420-1c9e905df8d0",
   "metadata": {},
   "outputs": [],
   "source": [
    "# libraries used for matching\n",
    "import pandas as pd\n",
    "import numpy as np\n",
    "from rapidfuzz import fuzz, process, utils\n",
    "import time\n",
    "from loguru  import logger\n",
    "import sys\n",
    "import json\n",
    "import glob\n",
    "\n",
    "# creating dataframe from the registry - this file must be requested for use\n",
    "voter_records_2023_df = pd.read_csv('../data/raw_feb_23_city_wide.csv', dtype=str)\n",
    "\n",
    "# removing default sink and adding Jupyter Notebook system standout as a sink for logger\n",
    "logger.remove()\n",
    "logger.add(sys.stdout, level=\"INFO\", colorize=True, format=\"<r><u>{time}</u></r> <green>{level}</green> <black><bold>{message}</bold></black>\")\n",
    "\n",
    "# loading the OCR Results - this file must be requested for use\n",
    "with open('../data/processed_ocr_data.json', 'r') as file:\n",
    "    resulting_data = json.load(file)"
   ]
  },
  {
   "cell_type": "markdown",
   "id": "0ad5da56-214f-4d04-9d23-5b4fecc48eb7",
   "metadata": {},
   "source": [
    "## Vanilla\n",
    "\n",
    "The original version of the full name column generation implements a lambda function, we then create a separate list of full name values, and the matching function iterates through the full name list to check every name returned by OCR."
   ]
  },
  {
   "cell_type": "code",
   "execution_count": 2,
   "id": "6ccbfa27-de41-4aa6-8773-224152059c76",
   "metadata": {},
   "outputs": [
    {
     "name": "stdout",
     "output_type": "stream",
     "text": [
      "\u001b[31m\u001b[4m2024-08-20T22:59:38.891107-0400\u001b[0m\u001b[31m\u001b[0m \u001b[32mINFO\u001b[0m \u001b[30m\u001b[1mColumns generated in 3.81 seconds\u001b[0m\u001b[30m\u001b[0m\n"
     ]
    }
   ],
   "source": [
    "# Creating Full Name column with lambda\n",
    "start = time.time()\n",
    "voter_records_2023_df['Full Name'] = voter_records_2023_df.apply(lambda x: f\"{x['First_Name']} {x['Last_Name']}\", axis=1)\n",
    "full_name_list = list(voter_records_2023_df['Full Name'])\n",
    "end = time.time()\n",
    "logger.info(f\"Columns generated in {end - start:.2f} seconds\")"
   ]
  },
  {
   "cell_type": "code",
   "execution_count": 3,
   "id": "ba30df09-6b13-4d51-8d91-1c1b049bb68d",
   "metadata": {},
   "outputs": [],
   "source": [
    "##\n",
    "# FUZZY MATCHING FUNCTION\n",
    "##\n",
    "\n",
    "def score_function_fuzz(ocr_name, full_name_list):\n",
    "\n",
    "    \"\"\"\n",
    "    Outputs the voter record indices of the names that are\n",
    "    closest to `ocr_name`.\n",
    "    \"\"\"\n",
    "\n",
    "    # empty dictionary of scores\n",
    "    full_name_score_dict = dict()\n",
    "\n",
    "    for idx in range(len(full_name_list)):\n",
    "\n",
    "        # getting full name for row; ensuring string\n",
    "        name_row = str(full_name_list[idx])\n",
    "\n",
    "        # converting string to lower case to simplify matching\n",
    "        name_row = name_row.lower()\n",
    "        ocr_name = ocr_name.lower()\n",
    "\n",
    "        # compiling scores; writing as between 0 and 1\n",
    "        full_name_score_dict[idx] = fuzz.ratio(ocr_name, name_row)/100\n",
    "\n",
    "    # sorting dictionary\n",
    "    sorted_dictionary = dict(sorted(full_name_score_dict.items(), reverse=True, key=lambda item: item[1]))\n",
    "\n",
    "    # top five key value pairs (indices and scores)\n",
    "    indices_scores_list = list(sorted_dictionary.items())[:5]\n",
    "\n",
    "    return indices_scores_list"
   ]
  },
  {
   "cell_type": "markdown",
   "id": "756e9929-efda-4fb3-b182-1518daeff8b7",
   "metadata": {},
   "source": [
    "### By Full Name"
   ]
  },
  {
   "cell_type": "code",
   "execution_count": 4,
   "id": "981a2b57-2d41-421a-9b66-37853469f016",
   "metadata": {},
   "outputs": [],
   "source": [
    "matched_list = list()\n",
    "start_time = time.time()\n",
    "\n",
    "for dict_ in resulting_data:\n",
    "                temp_dict = dict()\n",
    "                high_match_ids = score_function_fuzz(dict_['Name'], full_name_list)\n",
    "                id_, score_ = high_match_ids[0]\n",
    "                temp_dict['OCR NAME'] = str(dict_['Name'])\n",
    "                temp_dict['MATCHED NAME'] = full_name_list[id_]\n",
    "                temp_dict['SCORE'] = \"{:.2f}\".format(score_)\n",
    "                temp_dict['VALID'] = False\n",
    "                if score_ > 0.85:\n",
    "                    temp_dict['VALID'] = True\n",
    "                matched_list.append(temp_dict)\n",
    "\n",
    "match_df = pd.DataFrame(matched_list, columns=[\"OCR NAME\", \"MATCHED NAME\", \"SCORE\", \"VALID\"])\n",
    "end_time = time.time()\n",
    "#match_df"
   ]
  },
  {
   "cell_type": "code",
   "execution_count": 5,
   "id": "9afddf26-a0c9-4224-a7a9-f362f7fd4e03",
   "metadata": {},
   "outputs": [
    {
     "name": "stdout",
     "output_type": "stream",
     "text": [
      "\u001b[31m\u001b[4m2024-08-20T23:00:46.032062-0400\u001b[0m\u001b[31m\u001b[0m \u001b[32mINFO\u001b[0m \u001b[30m\u001b[1mMatch Time 67.120 secs | Matched Records: 53 of 66 - 80.30%\u001b[0m\u001b[30m\u001b[0m\n"
     ]
    }
   ],
   "source": [
    "valid_matches = match_df['VALID'].sum()\n",
    "total_records = len(match_df)\n",
    "logger.info(f\"Match Time {end_time-start_time:.3f} secs | Matched Records: {valid_matches} of {total_records} - {(valid_matches/total_records * 100):.2f}%\")"
   ]
  },
  {
   "cell_type": "markdown",
   "id": "8f76e567-5a33-4758-b0fe-df5f4ff30e67",
   "metadata": {},
   "source": [
    "## Vectorized Columns\n",
    "\n",
    "For greater specificity when matching voter records, we wish to include the address of the voter as well as their name in the search. Using vectorized columns in lieu of the lambda function speeds up the column generation and we can omit the list as extract can iterate through a panda series directly.\n",
    "\n"
   ]
  },
  {
   "cell_type": "code",
   "execution_count": 6,
   "id": "86a9ea17-81cf-4e15-8928-a4a27cbd6f01",
   "metadata": {},
   "outputs": [
    {
     "name": "stdout",
     "output_type": "stream",
     "text": [
      "\u001b[31m\u001b[4m2024-08-20T23:00:47.043231-0400\u001b[0m\u001b[31m\u001b[0m \u001b[32mINFO\u001b[0m \u001b[30m\u001b[1mInitialized columns in 1.00 seconds\u001b[0m\u001b[30m\u001b[0m\n"
     ]
    }
   ],
   "source": [
    "start_time = time.time()\n",
    "voter_records_2023_df[\"Full Name\"] = voter_records_2023_df[\"First_Name\"] + ' ' + voter_records_2023_df[\"Last_Name\"]\n",
    "voter_records_2023_df[\"Full Address\"] =  voter_records_2023_df[\"Street_Number\"] + \" \" + voter_records_2023_df[\"Street_Name\"] + \" \" + voter_records_2023_df[\"Street_Type\"] + \" \" + voter_records_2023_df[\"Street_Dir_Suffix\"]\n",
    "voter_records_2023_df[\"Full Name and Full Address\"] = voter_records_2023_df[\"Full Name\"] + ' ' + voter_records_2023_df[\"Full Address\"]\n",
    "end_time = time.time()\n",
    "\n",
    "logger.info(f\"Initialized columns in {end_time - start_time:.2f} seconds\")"
   ]
  },
  {
   "cell_type": "markdown",
   "id": "6b51039c-44e5-4348-8320-42d23cf79345",
   "metadata": {},
   "source": [
    "## Extract\n",
    "\n",
    "Extract simplifies the matching process significantly, we simply feed it a query and a list of values to check the query against, and it returns a list of tuples which range from the highest match score to the lowest."
   ]
  },
  {
   "cell_type": "code",
   "execution_count": 7,
   "id": "00a5fa98-6586-4524-914d-158074762a61",
   "metadata": {},
   "outputs": [],
   "source": [
    "def score_extract_default(query_name, names_list):\n",
    "    # the default scorer produces a Levenshtein distance number, so we can use fuzz.ratio as a scorer to obtain a more readable % format\n",
    "    # default_process is a processor that removes whitespace, lowers all letters, removes any non-alphanumeric characters\n",
    "    # by limiting to 5 we can save a little bit of space and time and code, since we were looping through all of the items before and only taking the top 5 of the sorted list.\n",
    "    list_of_match_tuples = process.extract(query=query_name, choices=names_list, scorer=fuzz.ratio, processor=utils.default_process, limit=5)\n",
    "    # this will produce a list of tuples whose values are as follows:\n",
    "    # (matched record: the record which the query matched*,\n",
    "    # score: the result of fuzz.ratio between the query and the matched record,\n",
    "    # index: when checked against an iterable i.e standard python list, this will be an index, when checked against panda dataframes, it will return a key)\n",
    "    return list_of_match_tuples"
   ]
  },
  {
   "cell_type": "markdown",
   "id": "a4f3ffb3-e743-4c68-ad77-02f31150895f",
   "metadata": {},
   "source": [
    "### By Name + Address\n",
    "\n",
    "When we receive data back from the OCR, it is in the form of a dictionary with keys for Name, Address, Ward, and Date. We combine the values for Name and Address to check against the OCR column we created earlier. It's important to note that with the % format returned by our new scorer we have to change the valid score check from 0.85 to 85.0."
   ]
  },
  {
   "cell_type": "code",
   "execution_count": 8,
   "id": "2fe75152-91c9-43c1-8859-12c36146369d",
   "metadata": {},
   "outputs": [],
   "source": [
    "matched_list = list()\n",
    "start_time = time.time()\n",
    "\n",
    "for dict_ in resulting_data:\n",
    "                name_address_combo = f\"{dict_['Name']} {dict_['Address']}\"\n",
    "                temp_dict = dict()\n",
    "                high_match_ids = score_extract_default(name_address_combo, voter_records_2023_df[\"Full Name and Full Address\"])\n",
    "                record_, score_, id_ = high_match_ids[0]\n",
    "                temp_dict['OCR RECORD'] = name_address_combo\n",
    "                temp_dict['MATCHED RECORD'] = record_\n",
    "                temp_dict['SCORE'] = \"{:.2f}\".format(score_)\n",
    "                temp_dict['VALID'] = False\n",
    "                if score_ > 85.0:\n",
    "                    temp_dict['VALID'] = True\n",
    "                matched_list.append(temp_dict)\n",
    "\n",
    "match_df = pd.DataFrame(matched_list, columns=[\"OCR RECORD\", \"MATCHED RECORD\", \"SCORE\", \"VALID\"])\n",
    "end_time = time.time()\n",
    "# match_df"
   ]
  },
  {
   "cell_type": "code",
   "execution_count": 9,
   "id": "fce19542-f436-4bb7-acfe-640f69ae0529",
   "metadata": {},
   "outputs": [
    {
     "name": "stdout",
     "output_type": "stream",
     "text": [
      "\u001b[31m\u001b[4m2024-08-20T23:01:04.648341-0400\u001b[0m\u001b[31m\u001b[0m \u001b[32mINFO\u001b[0m \u001b[30m\u001b[1mMatch Time 17.579 secs | Matched Records: 32 of 66 - 48.48%\u001b[0m\u001b[30m\u001b[0m\n"
     ]
    }
   ],
   "source": [
    "valid_matches = match_df['VALID'].sum()\n",
    "total_records = len(resulting_data)\n",
    "logger.info(f\"Match Time {end_time-start_time:.3f} secs | Matched Records: {valid_matches} of {total_records} - {(valid_matches/total_records * 100):.2f}%\")"
   ]
  },
  {
   "cell_type": "markdown",
   "id": "c1e9355e-ff6b-442a-80ae-4b8332cb25ce",
   "metadata": {},
   "source": [
    "### By Ward\n",
    "\n",
    "We are now searching by name and address, however combing through the entire registry dataframe is more time intensive than we'd like. As we have access to the Ward value in the data returned by OCR, we can search name an address only within the Ward and cut the search time considerably. Because the WARD value in the voter registry is entered as a float, we have to do a little string formatting."
   ]
  },
  {
   "cell_type": "code",
   "execution_count": 10,
   "id": "55dfbe6d-9ea5-45ff-8790-182f37022e41",
   "metadata": {},
   "outputs": [],
   "source": [
    "matched_list = list()\n",
    "start_time = time.time()\n",
    "\n",
    "for dict_ in resulting_data:\n",
    "                name_address_combo = f\"{dict_['Name']} {dict_['Address']}\"\n",
    "                temp_dict = dict()\n",
    "                high_match_ids = score_extract_default(name_address_combo, voter_records_2023_df[voter_records_2023_df['WARD'] == f\"{dict_['Ward']}.0\"][\"Full Name and Full Address\"])\n",
    "                record_, score_, id_ = high_match_ids[0]\n",
    "                temp_dict['OCR RECORD'] = name_address_combo\n",
    "                temp_dict['MATCHED RECORD'] = record_\n",
    "                temp_dict['SCORE'] = \"{:.2f}\".format(score_)\n",
    "                temp_dict['VALID'] = False\n",
    "                if score_ > 85.0:\n",
    "                    temp_dict['VALID'] = True\n",
    "                matched_list.append(temp_dict)\n",
    "\n",
    "match_df = pd.DataFrame(matched_list, columns=[\"OCR RECORD\", \"MATCHED RECORD\", \"SCORE\", \"VALID\"])\n",
    "end_time = time.time()\n",
    "# match_df"
   ]
  },
  {
   "cell_type": "code",
   "execution_count": 11,
   "id": "f7d61026-410c-468b-ad6a-5c86c61dcf96",
   "metadata": {},
   "outputs": [
    {
     "name": "stdout",
     "output_type": "stream",
     "text": [
      "\u001b[31m\u001b[4m2024-08-20T23:01:13.234195-0400\u001b[0m\u001b[31m\u001b[0m \u001b[32mINFO\u001b[0m \u001b[30m\u001b[1mMatch Time 8.572 secs | Matched Records: 26 of 66 - 39.39%\u001b[0m\u001b[30m\u001b[0m\n"
     ]
    }
   ],
   "source": [
    "valid_matches = match_df['VALID'].sum()\n",
    "total_records = len(match_df)\n",
    "logger.info(f\"Match Time {end_time-start_time:.3f} secs | Matched Records: {valid_matches} of {total_records} - {(valid_matches/total_records * 100):.2f}%\")"
   ]
  },
  {
   "cell_type": "markdown",
   "id": "307d8565-b0c7-4155-be51-a6c2dee2f874",
   "metadata": {},
   "source": [
    "## Hierarchical Search\n",
    "\n",
    "At this point we can match by full name + address, as well as by Ward. OCR is imperfect, and has a tendency to return incorrect or entirely hallucinated Ward values. This means that searching by Ward is not always optimal, but if we can find a valid match within the Ward returned by OCR we'd like to keep it without having to search further. By using a hierarchical search we can split the difference between speed and accuracy. If a valid match is found in ward, we return it, and if not we move on to a name + address search against the entire registry. If no match is found for name + address in the registry, we default to the original Full Name search.\n",
    "\n",
    "The first step in implementing this search is to refactor the extract function, so we can use different scores for different searches, and to implement adjustable limits to the returns. The fuzz.token_ratio scorer seems to perform better when matching addresses, and fuzz.ratio seems to perform better matching names, however not every combination of the scorers offered by rapidfuzz has been tested so far."
   ]
  },
  {
   "cell_type": "code",
   "execution_count": 12,
   "id": "f9868381-832c-419b-bdae-057b45bfc3a5",
   "metadata": {},
   "outputs": [],
   "source": [
    "def score_extract(ocr_name, full_name_list, scorer_=fuzz.token_ratio, limit_=1):\n",
    "    list_of_match_tuples = process.extract(query=ocr_name, choices=full_name_list, scorer=scorer_, processor=utils.default_process, limit=limit_)\n",
    "    return list_of_match_tuples"
   ]
  },
  {
   "cell_type": "markdown",
   "id": "7ebdaeb0-9076-4f72-b060-827233840d95",
   "metadata": {},
   "source": [
    "Given the length of the function, it makes sense to abstract the search into its own function to preserve legibility."
   ]
  },
  {
   "cell_type": "code",
   "execution_count": 13,
   "id": "302aba9e-fda0-4996-a816-aae3f04d1be9",
   "metadata": {},
   "outputs": [],
   "source": [
    "def tiered_search(name, address):\n",
    "\n",
    "    name_address_combo = f\"{name} {address}\"\n",
    "\n",
    "    # Searches for a match within the Ward returned by OCR\n",
    "    name_address_matches1 = score_extract(name_address_combo, voter_records_2023_df[voter_records_2023_df['WARD'] == f\"{dict_['Ward']}.0\"][\"Full Name and Full Address\"])\n",
    "    name_address__name1, name_address__score1, name_address__id1 = name_address_matches1[0]\n",
    "\n",
    "    # if score is more than 85, return the tuple\n",
    "    if name_address__score1 >= 85.0:\n",
    "        return (name_address__name1, name_address__score1, name_address__id1)\n",
    "\n",
    "    # if score is below 85, do additional processing\n",
    "    else:\n",
    "\n",
    "        # computing matches based on name and address; only considers all other wards\n",
    "        name_address_matches2 = score_extract(name_address_combo, voter_records_2023_df[voter_records_2023_df['WARD'] != f\"{dict_['Ward']}.0\"][\"Full Name and Full Address\"])\n",
    "        name_address__name2, name_address__score2, name_address__id2 = name_address_matches2[0]\n",
    "\n",
    "        # if the new voter records score is greater than 85, return tuple\n",
    "        if name_address__score2 >= 85.0:\n",
    "            return (name_address__name2, name_address__score2, name_address__id2)\n",
    "\n",
    "        # if score is less than 85, perform full records search based on name\n",
    "        # and return results with highest score\n",
    "        else:\n",
    "            # computing matches based on name alone; considers full voter records\n",
    "            full_name_matches = score_extract(name, voter_records_2023_df[\"Full Name\"], scorer_=fuzz.ratio)\n",
    "            full_name__name, full_name__score, full_name__id = full_name_matches[0]\n",
    "\n",
    "            # find max from three scores\n",
    "            max_indx = np.argmax([name_address__score1, name_address__score2, full_name__score])\n",
    "\n",
    "            # return records associated with that max\n",
    "            if max_indx== 0:\n",
    "                return (name_address__name1, name_address__score1, name_address__id1)\n",
    "            elif max_indx == 1:\n",
    "                return (name_address__name2, name_address__score2, name_address__id2)\n",
    "            else:\n",
    "                address = voter_records_2023_df.loc[full_name__id, 'Full Address']\n",
    "                full_name_address = f\"{full_name__name} {address}\"\n",
    "                return (full_name_address, full_name__score, full_name__id)"
   ]
  },
  {
   "cell_type": "code",
   "execution_count": 14,
   "id": "3253d70b-680c-4626-8027-ae7a39aafde5",
   "metadata": {},
   "outputs": [],
   "source": [
    "matched_list = list()\n",
    "start_time = time.time()\n",
    "\n",
    "for dict_ in resulting_data:\n",
    "    temp_dict = dict()\n",
    "    name_, score_, id_ = tiered_search(dict_['Name'], dict_['Address'])\n",
    "    temp_dict['OCR RECORD'] = f\"{dict_['Name']} {dict_['Address']}\"\n",
    "    temp_dict['MATCHED RECORD'] = name_\n",
    "    temp_dict['SCORE'] = \"{:.2f}\".format(score_)\n",
    "    temp_dict['VALID'] = False\n",
    "    if score_ > 85.0:\n",
    "        temp_dict['VALID'] = True\n",
    "    matched_list.append(temp_dict)\n",
    "\n",
    "## Editable Table\n",
    "match_df = pd.DataFrame(matched_list, columns=[\"OCR RECORD\", \"MATCHED RECORD\", \"SCORE\", \"VALID\"])\n",
    "end_time = time.time()\n",
    "# match_df"
   ]
  },
  {
   "cell_type": "code",
   "execution_count": 15,
   "id": "93256f27-50d8-4cd4-94a9-c13c93293282",
   "metadata": {},
   "outputs": [
    {
     "name": "stdout",
     "output_type": "stream",
     "text": [
      "\u001b[31m\u001b[4m2024-08-20T23:03:02.109415-0400\u001b[0m\u001b[31m\u001b[0m \u001b[32mINFO\u001b[0m \u001b[30m\u001b[1mMatch Time 108.843 secs | Matched Records: 59 of 66 - 89.39%\u001b[0m\u001b[30m\u001b[0m\n"
     ]
    }
   ],
   "source": [
    "total_records = len(match_df)\n",
    "valid_matches = match_df[\"VALID\"].sum()\n",
    "logger.info(f\"Match Time {end_time-start_time:.3f} secs | Matched Records: {valid_matches} of {total_records} - {(valid_matches/total_records * 100):.2f}%\")"
   ]
  },
  {
   "cell_type": "markdown",
   "id": "5c748a6a-e70c-4833-91d3-2bcc1d26b19f",
   "metadata": {},
   "source": [
    "# Benchmarking Scorers\n",
    "\n",
    "Below are benchmarks of all scorers available through rapidfuzz for name + address search and full name search. I've commented out all the actual matching and tables so that this notebook runs faster and doesn't expose information. The match time is system dependent but should provide a general idea of how fast the scorers are in relation to each other. Sadly visualizing this data is difficult because the most promising results usually include the highest rate of false positives.\n",
    "\n",
    " Cursory analysis would suggest fuzz.ratio as the best scorer for the Full Name search and either fuzz.token_set_ratio (accuracy) or token_sort_ratio (speed, fewer false positives) as the best scorer for Full Name + Full Address search. \n",
    "\n",
    "First, let's create a function to simplify running the loop for test data."
   ]
  },
  {
   "cell_type": "code",
   "execution_count": 16,
   "id": "2db2fd65-0fbf-47aa-b39f-d4d642e57faf",
   "metadata": {},
   "outputs": [],
   "source": [
    "def benchmark_scorer(record_list, scorer=fuzz.WRatio, name_address=False):\n",
    "    matched_list = list()\n",
    "    if name_address:\n",
    "        df = voter_records_2023_df[\"Full Name and Full Address\"]\n",
    "    else:\n",
    "        df = voter_records_2023_df[\"Full Name\"]\n",
    "        \n",
    "    for dict_ in record_list:\n",
    "        temp_dict = dict()\n",
    "        if name_address:\n",
    "            record_name_address = f\"{dict_['Name']} {dict_['Address']}\"\n",
    "            matched_records = score_extract(record_name_address, df, scorer_=scorer)\n",
    "            name_, score_, id_ = matched_records[0]\n",
    "        else:\n",
    "            matched_records = score_extract(dict_['Name'], df, scorer_=scorer)\n",
    "            name_, score_, id_ = matched_records[0]\n",
    "        temp_dict['OCR RECORD'] = f\"{dict_['Name']} {dict_['Address']}\"\n",
    "        temp_dict['MATCHED RECORD'] = name_\n",
    "        temp_dict['SCORE'] = \"{:.2f}\".format(score_)\n",
    "        temp_dict['VALID'] = False\n",
    "        if score_ > 85.0:\n",
    "            temp_dict['VALID'] = True\n",
    "        matched_list.append(temp_dict)\n",
    "    \n",
    "    ## Editable Table\n",
    "    return matched_list"
   ]
  },
  {
   "cell_type": "markdown",
   "id": "03aa6041-cc27-4bb6-a82e-a3c560806739",
   "metadata": {},
   "source": [
    "## fuzz.WRatio\n",
    "### Name and Address"
   ]
  },
  {
   "cell_type": "markdown",
   "id": "4c7997cb-41c9-4a1e-9677-c2170016909e",
   "metadata": {},
   "source": [
    "Match time:  140s  \n",
    "Valid match rate: 100.00%  \n",
    "Notes: Returns obvious false positives - all records seem to have a match score floor of 85.50. Without further research this is unusable for our purposes."
   ]
  },
  {
   "cell_type": "code",
   "execution_count": 17,
   "id": "74da7292-fb5d-434c-a4b7-6a997a299b1a",
   "metadata": {},
   "outputs": [],
   "source": [
    "# start_time = time.time()\n",
    "# name_address_results__WRatio = benchmark_scorer(resulting_data, name_address=True)\n",
    "# match_df = pd.DataFrame(name_address_results__WRatio, columns=[\"OCR RECORD\", \"MATCHED RECORD\", \"SCORE\", \"VALID\"])\n",
    "# end_time = time.time()\n",
    "# match_df"
   ]
  },
  {
   "cell_type": "code",
   "execution_count": 18,
   "id": "ba99dcd3-4699-4339-bcf2-9d8a9551977e",
   "metadata": {},
   "outputs": [],
   "source": [
    "# total_records = len(match_df)\n",
    "# valid_matches = match_df[\"VALID\"].sum()\n",
    "# logger.info(f\"Match Time {end_time-start_time:.3f} secs | Matched Records: {valid_matches} of {total_records} - {(valid_matches/total_records * 100):.2f}%\")"
   ]
  },
  {
   "cell_type": "markdown",
   "id": "e669ccc0-f635-4a19-bce8-19fd4b283e42",
   "metadata": {},
   "source": [
    "### Full Name"
   ]
  },
  {
   "cell_type": "markdown",
   "id": "aa4c3127-db6c-4d75-816a-2abd71f892bd",
   "metadata": {},
   "source": [
    "Match time: 64s  \n",
    "Valid match rate: 98.48%  \n",
    "Notes: Unusable for current search. Wratio returns fewer false positives when used in the full name check, but only because it seems to find matches more consistently. Where there are no good matches, it still returns obvious mismatches with an 85.5 match rating."
   ]
  },
  {
   "cell_type": "code",
   "execution_count": 19,
   "id": "86b8d929-5cd2-4b75-b81e-74bfec4ea2a4",
   "metadata": {},
   "outputs": [],
   "source": [
    "# start_time = time.time()\n",
    "# name_address_results__WRatio = benchmark_scorer(resulting_data)\n",
    "# match_df = pd.DataFrame(name_address_results__WRatio, columns=[\"OCR RECORD\", \"MATCHED RECORD\", \"SCORE\", \"VALID\"])\n",
    "# end_time = time.time()\n",
    "# match_df"
   ]
  },
  {
   "cell_type": "code",
   "execution_count": 20,
   "id": "fb885967-e1c8-4ce9-a274-bd3cdaed9b9a",
   "metadata": {},
   "outputs": [],
   "source": [
    "# total_records = len(match_df)\n",
    "# valid_matches = match_df[\"VALID\"].sum()\n",
    "# logger.info(f\"Match Time {end_time-start_time:.3f} secs | Matched Records: {valid_matches} of {total_records} - {(valid_matches/total_records * 100):.2f}%\")"
   ]
  },
  {
   "cell_type": "markdown",
   "id": "d5f0b4b1-3da6-4aa2-b0b1-1319fd6dfd8e",
   "metadata": {},
   "source": [
    "## fuzz.ratio\n",
    "\n",
    "### Name & Address\n",
    "Match time: 14.3s  \n",
    "Match Rate: 48.48%"
   ]
  },
  {
   "cell_type": "code",
   "execution_count": 21,
   "id": "dad24dad-a37b-45c6-be9e-4117a5b8e89f",
   "metadata": {},
   "outputs": [],
   "source": [
    "# start_time = time.time()\n",
    "# name_address_results__r = benchmark_scorer(resulting_data, scorer=fuzz.ratio, name_address=True)\n",
    "# match_df = pd.DataFrame(name_address_results__r, columns=[\"OCR RECORD\", \"MATCHED RECORD\", \"SCORE\", \"VALID\"])\n",
    "# end_time = time.time()\n",
    "# match_df"
   ]
  },
  {
   "cell_type": "code",
   "execution_count": 22,
   "id": "3e0c3d19-b39c-4924-b0f8-f908e155e1bc",
   "metadata": {},
   "outputs": [],
   "source": [
    "# total_records = len(match_df)\n",
    "# valid_matches = match_df[\"VALID\"].sum()\n",
    "# logger.info(f\"Match Time {end_time-start_time:.3f} secs | Matched Records: {valid_matches} of {total_records} - {(valid_matches/total_records * 100):.2f}%\")"
   ]
  },
  {
   "cell_type": "markdown",
   "id": "f48002d1-982e-4e4d-bc34-fdf426ea7ff0",
   "metadata": {},
   "source": [
    "### Full Name\n",
    "\n",
    "Match time: 11.327s  \n",
    "Match rate: 80.3%  \n",
    "Notes: This is the most consistently performant and accurate scorer for the full name check."
   ]
  },
  {
   "cell_type": "code",
   "execution_count": 23,
   "id": "93c5ac09-5eb9-4241-9ceb-e91631cfc48f",
   "metadata": {},
   "outputs": [],
   "source": [
    "# start_time = time.time()\n",
    "# full_name_results__r = benchmark_scorer(resulting_data, scorer=fuzz.ratio)\n",
    "# match_df = pd.DataFrame(full_name_results__r, columns=[\"OCR RECORD\", \"MATCHED RECORD\", \"SCORE\", \"VALID\"])\n",
    "# end_time = time.time()\n",
    "# match_df"
   ]
  },
  {
   "cell_type": "code",
   "execution_count": 24,
   "id": "915419f7-c707-4898-986d-8e42af15c95e",
   "metadata": {},
   "outputs": [],
   "source": [
    "# total_records = len(match_df)\n",
    "# valid_matches = match_df[\"VALID\"].sum()\n",
    "# logger.info(f\"Match Time {end_time-start_time:.3f} secs | Matched Records: {valid_matches} of {total_records} - {(valid_matches/total_records * 100):.2f}%\")"
   ]
  },
  {
   "cell_type": "markdown",
   "id": "224a5ff2-c784-4791-be71-e2dff4901f3d",
   "metadata": {},
   "source": [
    "## fuzz.partial_ratio\n",
    "\n",
    "### Name & Address\n",
    "\n",
    "Match time: 77.635s  \n",
    "Match rate: 51.52s"
   ]
  },
  {
   "cell_type": "code",
   "execution_count": 25,
   "id": "1831c42d-d3be-40b4-a039-71a42e49363b",
   "metadata": {},
   "outputs": [],
   "source": [
    "# start_time = time.time()\n",
    "# name_address_results__pr = benchmark_scorer(resulting_data, scorer=fuzz.partial_ratio, name_address=True)\n",
    "# match_df = pd.DataFrame(name_address_results__pr, columns=[\"OCR RECORD\", \"MATCHED RECORD\", \"SCORE\", \"VALID\"])\n",
    "# end_time = time.time()\n",
    "# match_df"
   ]
  },
  {
   "cell_type": "code",
   "execution_count": 26,
   "id": "d6059c5b-02f2-4d70-876c-179e2d0f6f4c",
   "metadata": {},
   "outputs": [],
   "source": [
    "# total_records = len(match_df)\n",
    "# valid_matches = match_df[\"VALID\"].sum()\n",
    "# logger.info(f\"Match Time {end_time-start_time:.3f} secs | Matched Records: {valid_matches} of {total_records} - {(valid_matches/total_records * 100):.2f}%\")"
   ]
  },
  {
   "cell_type": "markdown",
   "id": "6544410a-0135-4e6a-bf05-095184a31164",
   "metadata": {},
   "source": [
    "### Full Name\n",
    "\n",
    "Match time: 32.60s  \n",
    "Match rate: 85.45  \n",
    "Notes: Unusuable for rate of false positives."
   ]
  },
  {
   "cell_type": "code",
   "execution_count": 27,
   "id": "e961b21b-9e4c-4f7c-b0f5-ac6b002ea97e",
   "metadata": {},
   "outputs": [],
   "source": [
    "# start_time = time.time()\n",
    "# full_name_results__pr = benchmark_scorer(resulting_data, scorer=fuzz.partial_ratio)\n",
    "# match_df = pd.DataFrame(full_name_results__pr, columns=[\"OCR RECORD\", \"MATCHED RECORD\", \"SCORE\", \"VALID\"])\n",
    "# end_time = time.time()\n",
    "# match_df"
   ]
  },
  {
   "cell_type": "code",
   "execution_count": 28,
   "id": "7bc21974-b146-4dff-90bd-ebbafb1985ba",
   "metadata": {},
   "outputs": [],
   "source": [
    "# total_records = len(match_df)\n",
    "# valid_matches = match_df[\"VALID\"].sum()\n",
    "# logger.info(f\"Match Time {end_time-start_time:.3f} secs | Matched Records: {valid_matches} of {total_records} - {(valid_matches/total_records * 100):.2f}%\")"
   ]
  },
  {
   "cell_type": "markdown",
   "id": "64aeacff-c37a-4bf3-82c4-14ce07c8eddc",
   "metadata": {},
   "source": [
    "## fuzz.token_set_ratio\n",
    "\n",
    "### Name & Address\n",
    "\n",
    "Match time: 122.430s  \n",
    "Match rate: 57.58%  \n",
    "Notes:  A very accurate scorer with a low false positive rate in the OCR data set, but slow."
   ]
  },
  {
   "cell_type": "code",
   "execution_count": 29,
   "id": "f9ec785a-927e-4731-a2ca-797f2dbc45f5",
   "metadata": {},
   "outputs": [],
   "source": [
    "# start_time = time.time()\n",
    "# name_address_results__psetr = benchmark_scorer(resulting_data, scorer=fuzz.token_set_ratio, name_address=True)\n",
    "# match_df = pd.DataFrame(name_address_results__psetr, columns=[\"OCR RECORD\", \"MATCHED RECORD\", \"SCORE\", \"VALID\"])\n",
    "# end_time = time.time()\n",
    "# match_df"
   ]
  },
  {
   "cell_type": "code",
   "execution_count": 30,
   "id": "e0fe1d65-6c70-48ee-a9fb-6547e6c11d79",
   "metadata": {},
   "outputs": [],
   "source": [
    "# total_records = len(match_df)\n",
    "# valid_matches = match_df[\"VALID\"].sum()\n",
    "# logger.info(f\"Match Time {end_time-start_time:.3f} secs | Matched Records: {valid_matches} of {total_records} - {(valid_matches/total_records * 100):.2f}%\")"
   ]
  },
  {
   "cell_type": "markdown",
   "id": "acafd951-b789-4bba-8384-66185a7f49ad",
   "metadata": {},
   "source": [
    "### Full Name\n",
    "Match time: 75.748s  \n",
    "Match rate: 51.52%"
   ]
  },
  {
   "cell_type": "code",
   "execution_count": 31,
   "id": "472edaf9-2fef-4d9f-8821-4bcaab4c5a9c",
   "metadata": {},
   "outputs": [],
   "source": [
    "# start_time = time.time()\n",
    "# full_name_results__psetr = benchmark_scorer(resulting_data, scorer=fuzz.token_set_ratio)\n",
    "# match_df = pd.DataFrame(full_name_results__psetr, columns=[\"OCR RECORD\", \"MATCHED RECORD\", \"SCORE\", \"VALID\"])\n",
    "# end_time = time.time()\n",
    "# match_df"
   ]
  },
  {
   "cell_type": "code",
   "execution_count": 32,
   "id": "d4a49ea1-1391-4a77-bea6-ed4412be5f97",
   "metadata": {},
   "outputs": [],
   "source": [
    "# total_records = len(match_df)\n",
    "# valid_matches = match_df[\"VALID\"].sum()\n",
    "# logger.info(f\"Match Time {end_time-start_time:.3f} secs | Matched Records: {valid_matches} of {total_records} - {(valid_matches/total_records * 100):.2f}%\")"
   ]
  },
  {
   "cell_type": "markdown",
   "id": "533ae8cc-7f42-46e8-9c41-6e7501f7e1ba",
   "metadata": {},
   "source": [
    "## fuzz.partial_token_set_ratio\n",
    "\n",
    "### Name & Address\n",
    "Match time: .003s  \n",
    "Match rate: 100%  \n",
    "Notes: Returns first record in the database for nearly every query, unusuable."
   ]
  },
  {
   "cell_type": "code",
   "execution_count": 33,
   "id": "3b6658fe-31c4-4d83-b89a-806ad2a991bd",
   "metadata": {},
   "outputs": [],
   "source": [
    "# start_time = time.time()\n",
    "# name_address_results__ptsetr = benchmark_scorer(resulting_data, scorer=fuzz.partial_token_set_ratio, name_address=True)\n",
    "# match_df = pd.DataFrame(name_address_results__ptsetr, columns=[\"OCR RECORD\", \"MATCHED RECORD\", \"SCORE\", \"VALID\"])\n",
    "# end_time = time.time()\n",
    "# match_df"
   ]
  },
  {
   "cell_type": "code",
   "execution_count": 34,
   "id": "cdb241e5-ffc2-44bb-abbb-e4c40ab4a2e2",
   "metadata": {},
   "outputs": [],
   "source": [
    "# total_records = len(match_df)\n",
    "# valid_matches = match_df[\"VALID\"].sum()\n",
    "# logger.info(f\"Match Time {end_time-start_time:.3f} secs | Matched Records: {valid_matches} of {total_records} - {(valid_matches/total_records * 100):.2f}%\")"
   ]
  },
  {
   "cell_type": "markdown",
   "id": "bbf3d22b-cc48-4312-b6d4-d33c7149ee6b",
   "metadata": {},
   "source": [
    "### Full Name\n",
    "\n",
    "Match time: 1.766s  \n",
    "Match Rate: 100%  \n",
    "Notes: Unusable/False positives."
   ]
  },
  {
   "cell_type": "code",
   "execution_count": 35,
   "id": "9c3e7119-78bb-4d0b-9651-83b90d384bbb",
   "metadata": {},
   "outputs": [],
   "source": [
    "# start_time = time.time()\n",
    "# full_name_results__ptsetr = benchmark_scorer(resulting_data, scorer=fuzz.partial_token_set_ratio)\n",
    "# match_df = pd.DataFrame(full_name_results__ptsetr, columns=[\"OCR RECORD\", \"MATCHED RECORD\", \"SCORE\", \"VALID\"])\n",
    "# end_time = time.time()\n",
    "# match_df"
   ]
  },
  {
   "cell_type": "code",
   "execution_count": 36,
   "id": "6c348c48-27fd-4817-be62-ee298da4bccd",
   "metadata": {},
   "outputs": [],
   "source": [
    "# total_records = len(match_df)\n",
    "# valid_matches = match_df[\"VALID\"].sum()\n",
    "# logger.info(f\"Match Time {end_time-start_time:.3f} secs | Matched Records: {valid_matches} of {total_records} - {(valid_matches/total_records * 100):.2f}%\")"
   ]
  },
  {
   "cell_type": "markdown",
   "id": "2732cd17-92ae-4b0a-bd3a-f198112ce5ba",
   "metadata": {},
   "source": [
    "## fuzz.token_sort_ratio\n",
    "\n",
    "### Name & Address\n",
    "\n",
    "Match time: 58.513  \n",
    "Match Rate: 46.97%  \n",
    "Notes: This is far more performant and does not return many false positives, which may be why it's match rate is so low. I would recommend it for use. The match rate would suffer but probably would better represent the validity of the match."
   ]
  },
  {
   "cell_type": "code",
   "execution_count": 37,
   "id": "0e2809a1-07ab-49ab-867e-5158513d46b1",
   "metadata": {},
   "outputs": [],
   "source": [
    "# start_time = time.time()\n",
    "# name_address_results__tsr = benchmark_scorer(resulting_data, scorer=fuzz.token_sort_ratio, name_address=True)\n",
    "# match_df = pd.DataFrame(name_address_results__tsr, columns=[\"OCR RECORD\", \"MATCHED RECORD\", \"SCORE\", \"VALID\"])\n",
    "# end_time = time.time()\n",
    "# match_df"
   ]
  },
  {
   "cell_type": "code",
   "execution_count": 38,
   "id": "b3ef80f6-8406-4bdd-be1d-eaf68016ef18",
   "metadata": {},
   "outputs": [],
   "source": [
    "# total_records = len(match_df)\n",
    "# valid_matches = match_df[\"VALID\"].sum()\n",
    "# logger.info(f\"Match Time {end_time-start_time:.3f} secs | Matched Records: {valid_matches} of {total_records} - {(valid_matches/total_records * 100):.2f}%\")"
   ]
  },
  {
   "cell_type": "markdown",
   "id": "5455ffdf-cb7a-4003-91ab-03ea775ba419",
   "metadata": {},
   "source": [
    "### Full Name\n",
    "Match time: 25.767s  \n",
    "Match rate: 80.30%  \n",
    "Notes: A solid blend of performance and accuracy, but ratio is still probably the better scorer."
   ]
  },
  {
   "cell_type": "code",
   "execution_count": 39,
   "id": "5e35ce56-6f32-4b10-9512-8a7d36e3c598",
   "metadata": {},
   "outputs": [],
   "source": [
    "# start_time = time.time()\n",
    "# full_name_results__tsr = benchmark_scorer(resulting_data, scorer=fuzz.token_sort_ratio)\n",
    "# match_df = pd.DataFrame(full_name_results__tsr, columns=[\"OCR RECORD\", \"MATCHED RECORD\", \"SCORE\", \"VALID\"])\n",
    "# end_time = time.time()\n",
    "# match_df"
   ]
  },
  {
   "cell_type": "code",
   "execution_count": 40,
   "id": "cdc5f141-63dc-44f8-be60-0a71e877bf1f",
   "metadata": {},
   "outputs": [],
   "source": [
    "# total_records = len(match_df)\n",
    "# valid_matches = match_df[\"VALID\"].sum()\n",
    "# logger.info(f\"Match Time {end_time-start_time:.3f} secs | Matched Records: {valid_matches} of {total_records} - {(valid_matches/total_records * 100):.2f}%\")"
   ]
  },
  {
   "cell_type": "markdown",
   "id": "6c00a9fc-7e97-4f00-9c0b-57f571b0121a",
   "metadata": {},
   "source": [
    "## fuzz.partial_token_sort_ratio\n",
    "\n",
    "### Name & Address\n",
    "Match time: 124.710s  \n",
    "Match rate: 54.55%  \n",
    "Notes: One of the slowest scorers, with some obvious false positives. "
   ]
  },
  {
   "cell_type": "code",
   "execution_count": 41,
   "id": "ce396239-a5c0-421f-9f7b-aa1f6c923f2c",
   "metadata": {},
   "outputs": [],
   "source": [
    "# start_time = time.time()\n",
    "# name_address_results__ptsr = benchmark_scorer(resulting_data, scorer=fuzz.partial_token_sort_ratio, name_address=True)\n",
    "# match_df = pd.DataFrame(name_address_results__ptsr, columns=[\"OCR RECORD\", \"MATCHED RECORD\", \"SCORE\", \"VALID\"])\n",
    "# end_time = time.time()\n",
    "# match_df"
   ]
  },
  {
   "cell_type": "code",
   "execution_count": 42,
   "id": "9d923cef-eeb3-48b1-b5f3-5e9828bb2f5b",
   "metadata": {},
   "outputs": [],
   "source": [
    "# total_records = len(match_df)\n",
    "# valid_matches = match_df[\"VALID\"].sum()\n",
    "# logger.info(f\"Match Time {end_time-start_time:.3f} secs | Matched Records: {valid_matches} of {total_records} - {(valid_matches/total_records * 100):.2f}%\")"
   ]
  },
  {
   "cell_type": "markdown",
   "id": "2ed23fd6-9cf1-4610-8eca-8b8b5e257381",
   "metadata": {},
   "source": [
    "### Full Name\n",
    "Match time: 54.77s  \n",
    "Match rate: 96.97%  \n",
    "Notes: Unusable/false positives."
   ]
  },
  {
   "cell_type": "code",
   "execution_count": 43,
   "id": "b0d19102-5496-41c5-8efa-34d90321387f",
   "metadata": {},
   "outputs": [],
   "source": [
    "# start_time = time.time()\n",
    "# full_name_results__ptsr = benchmark_scorer(resulting_data, scorer=fuzz.partial_token_sort_ratio)\n",
    "# match_df = pd.DataFrame(full_name_results__ptsr, columns=[\"OCR RECORD\", \"MATCHED RECORD\", \"SCORE\", \"VALID\"])\n",
    "# end_time = time.time()\n",
    "# match_df"
   ]
  },
  {
   "cell_type": "code",
   "execution_count": 44,
   "id": "98f4476c-72ef-49e5-9835-0c2ce63c1012",
   "metadata": {},
   "outputs": [],
   "source": [
    "# total_records = len(match_df)\n",
    "# valid_matches = match_df[\"VALID\"].sum()\n",
    "# logger.info(f\"Match Time {end_time-start_time:.3f} secs | Matched Records: {valid_matches} of {total_records} - {(valid_matches/total_records * 100):.2f}%\")"
   ]
  },
  {
   "cell_type": "markdown",
   "id": "ee1c68e4-bd16-4722-a88a-edc7790b39f1",
   "metadata": {},
   "source": [
    "## fuzz.token_ratio\n",
    "\n",
    "### Name & Address\n",
    "Match time: 144.637s  \n",
    "Match rate: 57.58%  \n",
    "Notes: Slow, probably a bit too strict on some matching, but strong accuracy."
   ]
  },
  {
   "cell_type": "code",
   "execution_count": 45,
   "id": "67ac36a6-324e-4d46-ac3b-dc6e672ef194",
   "metadata": {},
   "outputs": [],
   "source": [
    "# start_time = time.time()\n",
    "# name_address_results__tr = benchmark_scorer(resulting_data, scorer=fuzz.token_ratio, name_address=True)\n",
    "# match_df = pd.DataFrame(name_address_results__tr, columns=[\"OCR RECORD\", \"MATCHED RECORD\", \"SCORE\", \"VALID\"])\n",
    "# end_time = time.time()\n",
    "# match_df"
   ]
  },
  {
   "cell_type": "code",
   "execution_count": 46,
   "id": "c3a85082-911d-4a1a-9913-ac6cc5475985",
   "metadata": {},
   "outputs": [],
   "source": [
    "# total_records = len(match_df)\n",
    "# valid_matches = match_df[\"VALID\"].sum()\n",
    "# logger.info(f\"Match Time {end_time-start_time:.3f} secs | Matched Records: {valid_matches} of {total_records} - {(valid_matches/total_records * 100):.2f}%\")"
   ]
  },
  {
   "cell_type": "markdown",
   "id": "3d338751-08c3-43eb-ac01-0583c5ea2b87",
   "metadata": {},
   "source": [
    "### Full Name\n",
    "Match time: 59.102s  \n",
    "Match rate: 83.33%"
   ]
  },
  {
   "cell_type": "code",
   "execution_count": 47,
   "id": "6a5cbcd8-1dd6-4e3e-80ed-47620b0ca844",
   "metadata": {},
   "outputs": [],
   "source": [
    "# start_time = time.time()\n",
    "# full_name_results__tr = benchmark_scorer(resulting_data, scorer=fuzz.token_ratio)\n",
    "# match_df = pd.DataFrame(full_name_results__tr, columns=[\"OCR RECORD\", \"MATCHED RECORD\", \"SCORE\", \"VALID\"])\n",
    "# end_time = time.time()\n",
    "# match_df"
   ]
  },
  {
   "cell_type": "code",
   "execution_count": 48,
   "id": "24783dca-4919-4759-92ba-4aecb5b17f5e",
   "metadata": {},
   "outputs": [],
   "source": [
    "# total_records = len(match_df)\n",
    "# valid_matches = match_df[\"VALID\"].sum()\n",
    "# logger.info(f\"Match Time {end_time-start_time:.3f} secs | Matched Records: {valid_matches} of {total_records} - {(valid_matches/total_records * 100):.2f}%\")"
   ]
  },
  {
   "cell_type": "markdown",
   "id": "cade1ffa-c323-4573-9e8b-d2eca3483c31",
   "metadata": {},
   "source": [
    "## fuzz.partial_token_ratio\n",
    "\n",
    "### Name & Address\n",
    "Match time: .002s  \n",
    "Match rate: 100%  \n",
    "Notes: Unusable/false positives."
   ]
  },
  {
   "cell_type": "code",
   "execution_count": 49,
   "id": "2b151ff4-7175-4ebc-a4bd-68db223e1684",
   "metadata": {},
   "outputs": [],
   "source": [
    "# start_time = time.time()\n",
    "# name_address_results__ptr = benchmark_scorer(resulting_data, scorer=fuzz.partial_token_ratio, name_address=True)\n",
    "# match_df = pd.DataFrame(name_address_results__ptr, columns=[\"OCR RECORD\", \"MATCHED RECORD\", \"SCORE\", \"VALID\"])\n",
    "# end_time = time.time()\n",
    "# match_df"
   ]
  },
  {
   "cell_type": "code",
   "execution_count": 50,
   "id": "77d60ee7-cc5e-4597-bcea-7dea9c14bfbb",
   "metadata": {},
   "outputs": [],
   "source": [
    "# total_records = len(match_df)\n",
    "# valid_matches = match_df[\"VALID\"].sum()\n",
    "# logger.info(f\"Match Time {end_time-start_time:.3f} secs | Matched Records: {valid_matches} of {total_records} - {(valid_matches/total_records * 100):.2f}%\")"
   ]
  },
  {
   "cell_type": "markdown",
   "id": "ad54ae5f-c805-4b4e-a033-5ae30dbed9c0",
   "metadata": {},
   "source": [
    "### Full Name\n",
    "Match time: 1.6s  \n",
    "Match rate: 100%  \n",
    "Notes: Unusable/False Postives."
   ]
  },
  {
   "cell_type": "code",
   "execution_count": 51,
   "id": "4f9976eb-b9af-4d0a-afa0-aaee5cb8fce1",
   "metadata": {},
   "outputs": [],
   "source": [
    "# start_time = time.time()\n",
    "# full_name_results__ptr = benchmark_scorer(resulting_data, scorer=fuzz.partial_token_ratio)\n",
    "# match_df = pd.DataFrame(full_name_results__ptr, columns=[\"OCR RECORD\", \"MATCHED RECORD\", \"SCORE\", \"VALID\"])\n",
    "# end_time = time.time()\n",
    "# match_df"
   ]
  },
  {
   "cell_type": "code",
   "execution_count": 52,
   "id": "97243d4c-dd53-4c8b-92e1-58235bf57cdd",
   "metadata": {},
   "outputs": [],
   "source": [
    "# total_records = len(match_df)\n",
    "# valid_matches = match_df[\"VALID\"].sum()\n",
    "# logger.info(f\"Match Time {end_time-start_time:.3f} secs | Matched Records: {valid_matches} of {total_records} - {(valid_matches/total_records * 100):.2f}%\")"
   ]
  },
  {
   "cell_type": "code",
   "execution_count": null,
   "id": "7fd207c7-be60-4c4f-801e-aff75f1d762d",
   "metadata": {},
   "outputs": [],
   "source": []
  }
 ],
 "metadata": {
  "kernelspec": {
   "display_name": "Python 3 (ipykernel)",
   "language": "python",
   "name": "python3"
  },
  "language_info": {
   "codemirror_mode": {
    "name": "ipython",
    "version": 3
   },
   "file_extension": ".py",
   "mimetype": "text/x-python",
   "name": "python",
   "nbconvert_exporter": "python",
   "pygments_lexer": "ipython3",
   "version": "3.12.3"
  }
 },
 "nbformat": 4,
 "nbformat_minor": 5
}
